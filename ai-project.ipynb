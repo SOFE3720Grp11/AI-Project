{
 "cells": [
  {
   "cell_type": "code",
   "execution_count": null,
   "metadata": {},
   "outputs": [],
   "source": [
    "#STEP 1- Scraping WikiPedia and Creating Data Frame\n",
    "\n",
    "# install and import libraries\n",
    "#neighbourhood maps from open.toronto.ca\n",
    "\n",
    "%pip install bs4\n",
    "%pip install pandas\n",
    "%pip install requests\n",
    "%pip install folium\n",
    "%pip install numpy\n",
    "\n",
    "from bs4 import BeautifulSoup\n",
    "import requests\n",
    "import pandas as pd\n",
    "import numpy as np\n",
    "import folium\n",
    "print('DONE!')\n",
    "\n",
    "# Get the dataset metadata by passing package_id to the package_search endpoint\n",
    "# For example, to retrieve the metadata for this dataset:\n",
    "\n",
    "url = \"https://ckan0.cf.opendata.inter.prod-toronto.ca/api/3/action/package_show\"\n",
    "params = { \"id\": \"4def3f65-2a65-4a4f-83c4-b2a4aed72d46\"}\n",
    "package = requests.get(url, params = params).json()\n",
    "print(package[\"result\"])"
   ]
  },
  {
   "cell_type": "code",
   "execution_count": null,
   "metadata": {},
   "outputs": [],
   "source": [
    "url = 'https://en.wikipedia.org/wiki/List_of_postal_codes_of_Canada:_M'\n",
    "source = requests.get(url)\n",
    "soup = BeautifulSoup(source.text, 'html')\n",
    "#print(soup.tbody.prettify())\n",
    "\n",
    "#using soup object, iterate the wikitable to get the data from the HTML page and store it into a list\n",
    "data = []\n",
    "columns = []\n",
    "table = soup.find(\"tbody\")\n",
    "\n",
    "#function for finding italics \n",
    "def has_italics_not_assigned(tag):\n",
    "    return tag.has_attr('i') and not tag.has_attr('a')\n",
    "\n",
    "for index, tr in enumerate(table.find_all('tr')):\n",
    "    section = []\n",
    "    for td in tr.find_all(['th','td']):\n",
    "        if td.find_all(has_italics_not_assigned):\n",
    "            print(td)\n",
    "            break\n",
    "        else:\n",
    "            section.append(td.text.strip())\n",
    "        continue\n",
    "    #First row of data is the header\n",
    "    if (index == 0):\n",
    "        columns = section\n",
    "    else:\n",
    "        data.append(section)\n",
    "\n",
    "#convert list into Pandas DataFrame\n",
    "Toronto_df = pd.DataFrame(data = data, columns = columns)\n",
    "Toronto_df"
   ]
  },
  {
   "cell_type": "code",
   "execution_count": null,
   "metadata": {},
   "outputs": [],
   "source": [
    "# hi this is an edit"
   ]
  }
 ],
 "metadata": {
  "interpreter": {
   "hash": "67e3f73e8356f14524a847f17cfd5ba4d210754543d5cccf433b6ab066305601"
  },
  "kernelspec": {
   "display_name": "Python 3.10.2 64-bit (windows store)",
   "language": "python",
   "name": "python3"
  },
  "language_info": {
   "codemirror_mode": {
    "name": "ipython",
    "version": 3
   },
   "file_extension": ".py",
   "mimetype": "text/x-python",
   "name": "python",
   "nbconvert_exporter": "python",
   "pygments_lexer": "ipython3",
   "version": "3.10.2"
  },
  "orig_nbformat": 4
 },
 "nbformat": 4,
 "nbformat_minor": 2
}
